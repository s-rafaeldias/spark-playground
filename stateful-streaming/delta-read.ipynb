{
 "cells": [
  {
   "cell_type": "code",
   "execution_count": 21,
   "id": "8ea92d0c-7b76-4562-9085-6beb1b7a517d",
   "metadata": {},
   "outputs": [],
   "source": [
    "import findspark\n",
    "from pyspark.sql import SparkSession\n",
    "import pyspark.sql.types as T\n",
    "from delta import *\n",
    "\n",
    "findspark.init()"
   ]
  },
  {
   "cell_type": "code",
   "execution_count": 22,
   "id": "a0e7a13a-6fe2-4110-abc9-650f924593fb",
   "metadata": {
    "scrolled": true
   },
   "outputs": [],
   "source": [
    "builder = SparkSession \\\n",
    "    .builder \\\n",
    "    .config(\"spark.sql.repl.eagerEval.enabled\", \"true\") \\\n",
    "    .config(\"spark.sql.extensions\", \"io.delta.sql.DeltaSparkSessionExtension\") \\\n",
    "    .config(\"spark.sql.catalog.spark_catalog\", \"org.apache.spark.sql.delta.catalog.DeltaCatalog\") \\\n",
    "    .config(\"spark.sql.debug.maxToStringFields\", \"1000\") \\\n",
    "    .appName(\"notebook\")\n",
    "\n",
    "spark = configure_spark_with_delta_pip(builder).getOrCreate()"
   ]
  },
  {
   "cell_type": "code",
   "execution_count": 27,
   "id": "8f6c36f7-04cd-4d74-8c63-2dec1864197e",
   "metadata": {
    "scrolled": true
   },
   "outputs": [],
   "source": [
    "df = spark.read.format(\"delta\").load(\"./table\")"
   ]
  },
  {
   "cell_type": "code",
   "execution_count": 28,
   "id": "bb006889-204d-4cd7-82c0-fc24a53f09e6",
   "metadata": {},
   "outputs": [
    {
     "name": "stderr",
     "output_type": "stream",
     "text": [
      "/Users/rafael/personal/spark-playground/stateful-streaming/.venv/lib/python3.11/site-packages/pyspark/sql/pandas/conversion.py:251: FutureWarning: Passing unit-less datetime64 dtype to .astype is deprecated and will raise in a future version. Pass 'datetime64[ns]' instead\n",
      "  series = series.astype(t, copy=False)\n",
      "/Users/rafael/personal/spark-playground/stateful-streaming/.venv/lib/python3.11/site-packages/pyspark/sql/pandas/conversion.py:251: FutureWarning: Passing unit-less datetime64 dtype to .astype is deprecated and will raise in a future version. Pass 'datetime64[ns]' instead\n",
      "  series = series.astype(t, copy=False)\n"
     ]
    },
    {
     "data": {
      "text/html": [
       "<div>\n",
       "<style scoped>\n",
       "    .dataframe tbody tr th:only-of-type {\n",
       "        vertical-align: middle;\n",
       "    }\n",
       "\n",
       "    .dataframe tbody tr th {\n",
       "        vertical-align: top;\n",
       "    }\n",
       "\n",
       "    .dataframe thead th {\n",
       "        text-align: right;\n",
       "    }\n",
       "</style>\n",
       "<table border=\"1\" class=\"dataframe\">\n",
       "  <thead>\n",
       "    <tr style=\"text-align: right;\">\n",
       "      <th></th>\n",
       "      <th>sensor_id</th>\n",
       "      <th>count</th>\n",
       "      <th>threshold</th>\n",
       "      <th>triggered</th>\n",
       "      <th>start_ts</th>\n",
       "      <th>end_ts</th>\n",
       "      <th>timeout_window</th>\n",
       "      <th>timeout_ms</th>\n",
       "    </tr>\n",
       "  </thead>\n",
       "  <tbody>\n",
       "    <tr>\n",
       "      <th>0</th>\n",
       "      <td>ABC</td>\n",
       "      <td>20</td>\n",
       "      <td>5</td>\n",
       "      <td>True</td>\n",
       "      <td>2023-10-31 11:27:48.456410</td>\n",
       "      <td>2023-10-31 11:28:21.121024</td>\n",
       "      <td>32.664614</td>\n",
       "      <td>30000</td>\n",
       "    </tr>\n",
       "    <tr>\n",
       "      <th>1</th>\n",
       "      <td>XYZ</td>\n",
       "      <td>340</td>\n",
       "      <td>2</td>\n",
       "      <td>True</td>\n",
       "      <td>2023-10-31 11:27:37.485385</td>\n",
       "      <td>2023-10-31 11:28:41.028459</td>\n",
       "      <td>63.543074</td>\n",
       "      <td>10000</td>\n",
       "    </tr>\n",
       "    <tr>\n",
       "      <th>2</th>\n",
       "      <td>XYZ</td>\n",
       "      <td>1</td>\n",
       "      <td>2</td>\n",
       "      <td>False</td>\n",
       "      <td>2023-10-31 14:07:33.910585</td>\n",
       "      <td>2023-10-31 14:07:52.543673</td>\n",
       "      <td>18.633088</td>\n",
       "      <td>10000</td>\n",
       "    </tr>\n",
       "    <tr>\n",
       "      <th>3</th>\n",
       "      <td>XYZ</td>\n",
       "      <td>200</td>\n",
       "      <td>2</td>\n",
       "      <td>True</td>\n",
       "      <td>2023-10-31 14:08:17.746823</td>\n",
       "      <td>2023-10-31 14:08:39.048660</td>\n",
       "      <td>21.301837</td>\n",
       "      <td>10000</td>\n",
       "    </tr>\n",
       "  </tbody>\n",
       "</table>\n",
       "</div>"
      ],
      "text/plain": [
       "  sensor_id  count  threshold  triggered                   start_ts  \\\n",
       "0       ABC     20          5       True 2023-10-31 11:27:48.456410   \n",
       "1       XYZ    340          2       True 2023-10-31 11:27:37.485385   \n",
       "2       XYZ      1          2      False 2023-10-31 14:07:33.910585   \n",
       "3       XYZ    200          2       True 2023-10-31 14:08:17.746823   \n",
       "\n",
       "                      end_ts  timeout_window  timeout_ms  \n",
       "0 2023-10-31 11:28:21.121024       32.664614       30000  \n",
       "1 2023-10-31 11:28:41.028459       63.543074       10000  \n",
       "2 2023-10-31 14:07:52.543673       18.633088       10000  \n",
       "3 2023-10-31 14:08:39.048660       21.301837       10000  "
      ]
     },
     "execution_count": 28,
     "metadata": {},
     "output_type": "execute_result"
    }
   ],
   "source": [
    "df.orderBy(\"end_ts\").toPandas()"
   ]
  },
  {
   "cell_type": "code",
   "execution_count": 20,
   "id": "75953612-d4a2-427c-b064-1c35233b95eb",
   "metadata": {},
   "outputs": [],
   "source": [
    "# spark.stop()"
   ]
  },
  {
   "cell_type": "code",
   "execution_count": null,
   "id": "8a5d9bd0-43b4-4e4b-992f-fd6b39f753b5",
   "metadata": {},
   "outputs": [],
   "source": []
  }
 ],
 "metadata": {
  "kernelspec": {
   "display_name": "Python 3 (ipykernel)",
   "language": "python",
   "name": "python3"
  },
  "language_info": {
   "codemirror_mode": {
    "name": "ipython",
    "version": 3
   },
   "file_extension": ".py",
   "mimetype": "text/x-python",
   "name": "python",
   "nbconvert_exporter": "python",
   "pygments_lexer": "ipython3",
   "version": "3.11.6"
  }
 },
 "nbformat": 4,
 "nbformat_minor": 5
}
